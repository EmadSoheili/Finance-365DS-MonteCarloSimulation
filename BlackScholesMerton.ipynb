{
 "cells": [
  {
   "cell_type": "code",
   "execution_count": 29,
   "metadata": {
    "collapsed": true
   },
   "outputs": [],
   "source": [
    "import numpy as np\n",
    "import pandas as pd\n",
    "from pandas_datareader import data as wb\n",
    "from scipy.stats import norm"
   ]
  },
  {
   "cell_type": "markdown",
   "source": [
    "$$\n",
    "d_1 = \\frac{\\ln(\\frac{S}{K}) + (r + \\frac{stdev^2}{2})t}{s \\cdot \\sqrt{t}}\n",
    "$$\n",
    "\n",
    "$$\n",
    "d_2 = d_1 - s \\cdot \\sqrt{t} = \\frac{\\ln(\\frac{S}{K}) + (r - \\frac{stdev^2}{2})t}{s \\cdot \\sqrt{t}}\n",
    "$$"
   ],
   "metadata": {
    "collapsed": false
   }
  },
  {
   "cell_type": "code",
   "execution_count": 30,
   "outputs": [],
   "source": [
    "# Create functions for Black Scholes formula\n",
    "\n",
    "def d1(S, K, r, stdev, T):\n",
    "    return (np.log(S / K) + (r + stdev**2 / 2) * T) / (stdev * np.sqrt(T))\n",
    "\n",
    "def d2(S, K, r, stdev, T):\n",
    "    return (np.log(S / K) + (r - stdev**2 / 2) * T) / (stdev * np.sqrt(T))"
   ],
   "metadata": {
    "collapsed": false
   }
  },
  {
   "cell_type": "markdown",
   "source": [
    "$$\n",
    "\\textbf{C} = SN(d_1) - Ke^{-rt}N(d_2)\n",
    "$$"
   ],
   "metadata": {
    "collapsed": false
   }
  },
  {
   "cell_type": "code",
   "execution_count": 31,
   "outputs": [],
   "source": [
    "def BSM(S, K, r, stdev, T):\n",
    "    return (S * norm.cdf(d1(S, K, r, stdev, T))) - (K * np.exp(-r * T) * norm.cdf(d2(S, K, r, stdev, T)))"
   ],
   "metadata": {
    "collapsed": false
   }
  },
  {
   "cell_type": "code",
   "execution_count": 32,
   "outputs": [
    {
     "data": {
      "text/plain": "                    PG\nDate                  \n2012-01-03   48.218838\n2012-01-04   48.197193\n2012-01-05   47.995155\n2012-01-06   47.879730\n2012-01-09   48.081753\n...                ...\n2022-10-25  130.860001\n2022-10-26  131.779999\n2022-10-27  131.880005\n2022-10-28  135.220001\n2022-10-31  134.669998\n\n[2726 rows x 1 columns]",
      "text/html": "<div>\n<style scoped>\n    .dataframe tbody tr th:only-of-type {\n        vertical-align: middle;\n    }\n\n    .dataframe tbody tr th {\n        vertical-align: top;\n    }\n\n    .dataframe thead th {\n        text-align: right;\n    }\n</style>\n<table border=\"1\" class=\"dataframe\">\n  <thead>\n    <tr style=\"text-align: right;\">\n      <th></th>\n      <th>PG</th>\n    </tr>\n    <tr>\n      <th>Date</th>\n      <th></th>\n    </tr>\n  </thead>\n  <tbody>\n    <tr>\n      <th>2012-01-03</th>\n      <td>48.218838</td>\n    </tr>\n    <tr>\n      <th>2012-01-04</th>\n      <td>48.197193</td>\n    </tr>\n    <tr>\n      <th>2012-01-05</th>\n      <td>47.995155</td>\n    </tr>\n    <tr>\n      <th>2012-01-06</th>\n      <td>47.879730</td>\n    </tr>\n    <tr>\n      <th>2012-01-09</th>\n      <td>48.081753</td>\n    </tr>\n    <tr>\n      <th>...</th>\n      <td>...</td>\n    </tr>\n    <tr>\n      <th>2022-10-25</th>\n      <td>130.860001</td>\n    </tr>\n    <tr>\n      <th>2022-10-26</th>\n      <td>131.779999</td>\n    </tr>\n    <tr>\n      <th>2022-10-27</th>\n      <td>131.880005</td>\n    </tr>\n    <tr>\n      <th>2022-10-28</th>\n      <td>135.220001</td>\n    </tr>\n    <tr>\n      <th>2022-10-31</th>\n      <td>134.669998</td>\n    </tr>\n  </tbody>\n</table>\n<p>2726 rows × 1 columns</p>\n</div>"
     },
     "execution_count": 32,
     "metadata": {},
     "output_type": "execute_result"
    }
   ],
   "source": [
    "ticker = 'PG'\n",
    "data = pd.DataFrame()\n",
    "data[ticker] = wb.DataReader(ticker, data_source='yahoo', start='2012-1-1', end='2022-10-31')['Adj Close']\n",
    "data"
   ],
   "metadata": {
    "collapsed": false
   }
  },
  {
   "cell_type": "code",
   "execution_count": 33,
   "outputs": [
    {
     "data": {
      "text/plain": "PG    134.669998\nName: 2022-10-31 00:00:00, dtype: float64"
     },
     "execution_count": 33,
     "metadata": {},
     "output_type": "execute_result"
    }
   ],
   "source": [
    "S = data.iloc[-1]\n",
    "S"
   ],
   "metadata": {
    "collapsed": false
   }
  },
  {
   "cell_type": "code",
   "execution_count": 34,
   "outputs": [
    {
     "data": {
      "text/plain": "                  PG\nDate                \n2012-01-03       NaN\n2012-01-04 -0.000449\n2012-01-05 -0.004201\n2012-01-06 -0.002408\n2012-01-09  0.004210\n...              ...\n2022-10-25  0.011452\n2022-10-26  0.007006\n2022-10-27  0.000759\n2022-10-28  0.025011\n2022-10-31 -0.004076\n\n[2726 rows x 1 columns]",
      "text/html": "<div>\n<style scoped>\n    .dataframe tbody tr th:only-of-type {\n        vertical-align: middle;\n    }\n\n    .dataframe tbody tr th {\n        vertical-align: top;\n    }\n\n    .dataframe thead th {\n        text-align: right;\n    }\n</style>\n<table border=\"1\" class=\"dataframe\">\n  <thead>\n    <tr style=\"text-align: right;\">\n      <th></th>\n      <th>PG</th>\n    </tr>\n    <tr>\n      <th>Date</th>\n      <th></th>\n    </tr>\n  </thead>\n  <tbody>\n    <tr>\n      <th>2012-01-03</th>\n      <td>NaN</td>\n    </tr>\n    <tr>\n      <th>2012-01-04</th>\n      <td>-0.000449</td>\n    </tr>\n    <tr>\n      <th>2012-01-05</th>\n      <td>-0.004201</td>\n    </tr>\n    <tr>\n      <th>2012-01-06</th>\n      <td>-0.002408</td>\n    </tr>\n    <tr>\n      <th>2012-01-09</th>\n      <td>0.004210</td>\n    </tr>\n    <tr>\n      <th>...</th>\n      <td>...</td>\n    </tr>\n    <tr>\n      <th>2022-10-25</th>\n      <td>0.011452</td>\n    </tr>\n    <tr>\n      <th>2022-10-26</th>\n      <td>0.007006</td>\n    </tr>\n    <tr>\n      <th>2022-10-27</th>\n      <td>0.000759</td>\n    </tr>\n    <tr>\n      <th>2022-10-28</th>\n      <td>0.025011</td>\n    </tr>\n    <tr>\n      <th>2022-10-31</th>\n      <td>-0.004076</td>\n    </tr>\n  </tbody>\n</table>\n<p>2726 rows × 1 columns</p>\n</div>"
     },
     "execution_count": 34,
     "metadata": {},
     "output_type": "execute_result"
    }
   ],
   "source": [
    "log_return = np.log(data/data.shift(1))\n",
    "log_return"
   ],
   "metadata": {
    "collapsed": false
   }
  },
  {
   "cell_type": "code",
   "execution_count": 35,
   "outputs": [
    {
     "data": {
      "text/plain": "PG    0.178691\ndtype: float64"
     },
     "execution_count": 35,
     "metadata": {},
     "output_type": "execute_result"
    }
   ],
   "source": [
    "stdev = log_return.std()*250**.5\n",
    "stdev"
   ],
   "metadata": {
    "collapsed": false
   }
  },
  {
   "cell_type": "code",
   "execution_count": 36,
   "outputs": [],
   "source": [
    "r = 0.0381\n",
    "K = 110.0\n",
    "T = 1"
   ],
   "metadata": {
    "collapsed": false
   }
  },
  {
   "cell_type": "code",
   "execution_count": 37,
   "outputs": [
    {
     "data": {
      "text/plain": "PG    1.434949\ndtype: float64"
     },
     "execution_count": 37,
     "metadata": {},
     "output_type": "execute_result"
    }
   ],
   "source": [
    "d1(S, K, r, stdev, T)"
   ],
   "metadata": {
    "collapsed": false
   }
  },
  {
   "cell_type": "code",
   "execution_count": 38,
   "outputs": [
    {
     "data": {
      "text/plain": "PG    1.256259\ndtype: float64"
     },
     "execution_count": 38,
     "metadata": {},
     "output_type": "execute_result"
    }
   ],
   "source": [
    "d2(S, K, r, stdev, T)"
   ],
   "metadata": {
    "collapsed": false
   }
  },
  {
   "cell_type": "code",
   "execution_count": 39,
   "outputs": [
    {
     "data": {
      "text/plain": "PG    29.66073\nName: 2022-10-31 00:00:00, dtype: float64"
     },
     "execution_count": 39,
     "metadata": {},
     "output_type": "execute_result"
    }
   ],
   "source": [
    "BSM(S, K, r, stdev, T)"
   ],
   "metadata": {
    "collapsed": false
   }
  }
 ],
 "metadata": {
  "kernelspec": {
   "name": "pythondata",
   "language": "python",
   "display_name": "PythonData"
  },
  "language_info": {
   "codemirror_mode": {
    "name": "ipython",
    "version": 2
   },
   "file_extension": ".py",
   "mimetype": "text/x-python",
   "name": "python",
   "nbconvert_exporter": "python",
   "pygments_lexer": "ipython2",
   "version": "2.7.6"
  }
 },
 "nbformat": 4,
 "nbformat_minor": 0
}
